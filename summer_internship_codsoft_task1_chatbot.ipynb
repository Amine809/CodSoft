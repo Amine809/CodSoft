{
  "cells": [
    {
      "cell_type": "code",
      "execution_count": 9,
      "metadata": {
        "colab": {
          "base_uri": "https://localhost:8080/"
        },
        "id": "oocrB1qQxBGa",
        "outputId": "1fac919a-5385-47ed-ed70-555e3e407149"
      },
      "outputs": [
        {
          "output_type": "stream",
          "name": "stdout",
          "text": [
            "Chatbot: Hi there! I am your chatbot. You can ask me anything or type 'bye' to end the chat.\n",
            "You: hello\n",
            "Chatbot: Hi there!,How can I help you?\n",
            "You: how to master full stack web development\n",
            "Chatbot: You should learn both frontend web development and backend web developement\n",
            "You: what is the capital of brazil\n",
            "Chatbot: The capital of Brazil is Brasilia\n",
            "You: bye\n",
            "Chatbot: Goodbye!\n"
          ]
        }
      ],
      "source": [
        "class Chatbot:\n",
        "    def __init__(self):\n",
        "        # Define specific questions and responses\n",
        "        self.questions = {\n",
        "            \"hello\": \"Hi there!,How can I help you?\",\n",
        "\n",
        "            \"how are you\": \"I'm a bot, so I don't have feelings, but thank you for asking!\",\n",
        "            \"what is your name\": \"I'm an intelligent chatbot, your friendly chatbot.\",\n",
        "            \"what can you do\": \"I can chat with you and answer some questions you want to know !\",\n",
        "            \"who created you\": \"I was created by Skilled developers.\",\n",
        "            \"what is the capital of france\": \"The capital of France is Paris.\",\n",
        "            \"what is the capital of germany\": \"The capital of Germany is Berlin.\",\n",
        "            \"what is the capital of japan\": \"The capital of Japan is Tokyo.\",\n",
        "            \"what is the capital of australia\": \"The capital of Australia is Canberra\",\n",
        "            \"what is the capital of canada\": \"The capital of Canada is Ottawa\",\n",
        "            \"what is the capital of brazil\": \"The capital of Brazil is Brasilia\",\n",
        "            \"what is the capital of china\": \"The capital of China is Beijing\",\n",
        "            \"what is the capital of india\": \"The capital of India is New Delhi\",\n",
        "            \"what is the capital of Tunisia\": \"The capital of Tunisia is Tunis\",\n",
        "            \"what is the capital of russia\": \"The capital of Russia is Moscow\",\n",
        "            \"what is the capital of algeria\":\"The capital of Algeria is Algiers\",\n",
        "            \"what is the capital of nigeria\":\"The capital of Nigeria is Abuja\",\n",
        "            \"how to become a skilled data scientist\": \"You can become a skilled data scientist by learning rich courses,you should have a knowledge mathematics and by building tons of projects\",\n",
        "            \"how to improve my french language\":\"You should speak to french people and watching french tvs or radios\",\n",
        "            \"how to master full stack web development\":\"You should learn both frontend web development and backend web developement\",\n",
        "            \"how to calculate the area of a rectangle\": \"The area of a rectangle is calculated by multiplying the length by the width\",\n",
        "            \"how to calculate the area of a triangle\": \"The area of a triangle is calculated by multiplying the base by the height\",\n",
        "            \"how to calculate the area of a square\": \"The area of a square is calculated by multiplying the side by itself\",\n",
        "            \"what is machine learning\": \"Machine learning is a type of artificial intelligence that allows computers to learn from data and improve their performance over time.\",\n",
        "            \"what is deep learning\": \"Deep learning is a type of machine learning that uses artificial neural networks with multiple layers.\",\n",
        "            \"what is natural language processing\": \"Natural language processing is a type of artificial intelligence that uses machine learning to analyze and understand human language.\",\n",
        "            \"what is the difference between machine learning and deep learning\": \"Machine learning is a type of artificial intelligence that allows computers to learn from data and improve their performance over time, while deep learning is a type of machine learning that uses artificial neural networks with \",\n",
        "        }\n",
        "\n",
        "    def check_patterns(self, patterns, user_input):\n",
        "        for pattern in patterns:\n",
        "            if pattern in user_input:\n",
        "                return patterns[pattern]\n",
        "        return None\n",
        "\n",
        "    def get_response(self, user_input):\n",
        "        user_input = user_input.lower()\n",
        "\n",
        "        # Check for specific questions\n",
        "        response = self.check_patterns(self.questions, user_input)\n",
        "        if response:\n",
        "            return response\n",
        "\n",
        "        # Default response\n",
        "        return \"I'm not sure how to respond to that. Can you please ask something else?\"\n",
        "\n",
        "def main():\n",
        "    bot = Chatbot()\n",
        "    print(\"Chatbot: Hi there! I am your chatbot. You can ask me anything or type 'bye' to end the chat.\")\n",
        "    while True:\n",
        "        user_input = input(\"You: \")\n",
        "        if user_input.lower() == \"bye\":\n",
        "            print(\"Chatbot: Goodbye!\")\n",
        "            break\n",
        "        else:\n",
        "            response = bot.get_response(user_input)\n",
        "            print(f\"Chatbot: {response}\")\n",
        "\n",
        "if __name__ == \"__main__\":\n",
        "    main()\n",
        "\n",
        "\n",
        "\n"
      ]
    }
  ],
  "metadata": {
    "colab": {
      "provenance": []
    },
    "kernelspec": {
      "display_name": "Python 3",
      "name": "python3"
    },
    "language_info": {
      "name": "python"
    }
  },
  "nbformat": 4,
  "nbformat_minor": 0
}